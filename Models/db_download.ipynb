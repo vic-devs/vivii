{
 "cells": [
  {
   "cell_type": "code",
   "execution_count": 20,
   "id": "cddd4934-8ae2-4c99-9112-2c8bdaadf714",
   "metadata": {},
   "outputs": [],
   "source": [
    "import sqlite3\n",
    "import pandas as pd\n",
    "\n",
    "# Connect to your SQLite database\n",
    "conn = sqlite3.connect('viivi.db')\n",
    "\n",
    "# Query the user_behaviour table with pandas\n",
    "query = \"SELECT * FROM order_items\"\n",
    "df = pd.read_sql_query(query, conn)\n",
    "\n",
    "# Export to CSV with headers\n",
    "df.to_csv('order_items.csv', index=False)\n",
    "\n",
    "# Close the database connection\n",
    "conn.close()\n"
   ]
  },
  {
   "cell_type": "code",
   "execution_count": null,
   "id": "36155c77-8d14-43b7-9d1b-50957bc29ee3",
   "metadata": {},
   "outputs": [],
   "source": []
  }
 ],
 "metadata": {
  "kernelspec": {
   "display_name": "Python 3 (ipykernel)",
   "language": "python",
   "name": "python3"
  },
  "language_info": {
   "codemirror_mode": {
    "name": "ipython",
    "version": 3
   },
   "file_extension": ".py",
   "mimetype": "text/x-python",
   "name": "python",
   "nbconvert_exporter": "python",
   "pygments_lexer": "ipython3",
   "version": "3.11.7"
  }
 },
 "nbformat": 4,
 "nbformat_minor": 5
}
